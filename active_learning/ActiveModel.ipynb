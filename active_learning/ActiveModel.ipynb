{
 "cells": [
  {
   "cell_type": "code",
   "execution_count": 1,
   "metadata": {
    "collapsed": true
   },
   "outputs": [],
   "source": [
    "import numpy as np\n",
    "import pandas as pd\n",
    "import matplotlib.pyplot as plt\n",
    "\n",
    "%matplotlib inline\n",
    "\n",
    "plt.style.use('ggplot')\n",
    "plt.rcParams['figure.figsize'] = (12,5)"
   ]
  },
  {
   "cell_type": "code",
   "execution_count": 2,
   "metadata": {
    "collapsed": true
   },
   "outputs": [],
   "source": [
    "from sklearn.model_selection import cross_val_score, train_test_split\n",
    "from sklearn.linear_model import LinearRegression, SGDRegressor\n",
    "from sklearn.ensemble import RandomForestRegressor, GradientBoostingRegressor, BaggingRegressor\n",
    "from sklearn.neighbors import KNeighborsRegressor\n",
    "from sklearn.neural_network import MLPRegressor\n",
    "from sklearn.metrics import explained_variance_score, mean_squared_error"
   ]
  },
  {
   "cell_type": "code",
   "execution_count": 3,
   "metadata": {},
   "outputs": [
    {
     "data": {
      "text/html": [
       "<div>\n",
       "<style>\n",
       "    .dataframe thead tr:only-child th {\n",
       "        text-align: right;\n",
       "    }\n",
       "\n",
       "    .dataframe thead th {\n",
       "        text-align: left;\n",
       "    }\n",
       "\n",
       "    .dataframe tbody tr th {\n",
       "        vertical-align: top;\n",
       "    }\n",
       "</style>\n",
       "<table border=\"1\" class=\"dataframe\">\n",
       "  <thead>\n",
       "    <tr style=\"text-align: right;\">\n",
       "      <th></th>\n",
       "      <th>f1</th>\n",
       "      <th>f2</th>\n",
       "      <th>f3</th>\n",
       "      <th>f4</th>\n",
       "      <th>f5</th>\n",
       "      <th>f6</th>\n",
       "      <th>f7</th>\n",
       "      <th>f8</th>\n",
       "      <th>f9</th>\n",
       "      <th>f10</th>\n",
       "      <th>target</th>\n",
       "    </tr>\n",
       "    <tr>\n",
       "      <th>Id</th>\n",
       "      <th></th>\n",
       "      <th></th>\n",
       "      <th></th>\n",
       "      <th></th>\n",
       "      <th></th>\n",
       "      <th></th>\n",
       "      <th></th>\n",
       "      <th></th>\n",
       "      <th></th>\n",
       "      <th></th>\n",
       "      <th></th>\n",
       "    </tr>\n",
       "  </thead>\n",
       "  <tbody>\n",
       "    <tr>\n",
       "      <th>0</th>\n",
       "      <td>5.041817</td>\n",
       "      <td>7.498310</td>\n",
       "      <td>5.401499</td>\n",
       "      <td>3.883370</td>\n",
       "      <td>7.797436</td>\n",
       "      <td>2.025388</td>\n",
       "      <td>7.502592</td>\n",
       "      <td>5.734742</td>\n",
       "      <td>7.145297</td>\n",
       "      <td>5.595310</td>\n",
       "      <td>2.049162e+19</td>\n",
       "    </tr>\n",
       "    <tr>\n",
       "      <th>1</th>\n",
       "      <td>4.652294</td>\n",
       "      <td>2.861292</td>\n",
       "      <td>5.892564</td>\n",
       "      <td>0.423987</td>\n",
       "      <td>0.338622</td>\n",
       "      <td>8.022461</td>\n",
       "      <td>4.223700</td>\n",
       "      <td>1.111940</td>\n",
       "      <td>1.357083</td>\n",
       "      <td>2.823124</td>\n",
       "      <td>1.424015e+07</td>\n",
       "    </tr>\n",
       "    <tr>\n",
       "      <th>2</th>\n",
       "      <td>8.818132</td>\n",
       "      <td>4.353930</td>\n",
       "      <td>3.946465</td>\n",
       "      <td>1.500516</td>\n",
       "      <td>7.003775</td>\n",
       "      <td>8.552916</td>\n",
       "      <td>7.685059</td>\n",
       "      <td>6.912199</td>\n",
       "      <td>1.600199</td>\n",
       "      <td>7.300040</td>\n",
       "      <td>3.435237e+19</td>\n",
       "    </tr>\n",
       "    <tr>\n",
       "      <th>3</th>\n",
       "      <td>1.888474</td>\n",
       "      <td>3.742576</td>\n",
       "      <td>5.627763</td>\n",
       "      <td>1.322057</td>\n",
       "      <td>7.008867</td>\n",
       "      <td>4.520829</td>\n",
       "      <td>5.226385</td>\n",
       "      <td>5.377312</td>\n",
       "      <td>7.077503</td>\n",
       "      <td>6.205178</td>\n",
       "      <td>1.098084e+04</td>\n",
       "    </tr>\n",
       "    <tr>\n",
       "      <th>4</th>\n",
       "      <td>6.729722</td>\n",
       "      <td>0.852275</td>\n",
       "      <td>5.909109</td>\n",
       "      <td>6.610019</td>\n",
       "      <td>1.526279</td>\n",
       "      <td>2.566016</td>\n",
       "      <td>1.597667</td>\n",
       "      <td>3.637468</td>\n",
       "      <td>1.255301</td>\n",
       "      <td>2.154177</td>\n",
       "      <td>2.448640e+03</td>\n",
       "    </tr>\n",
       "  </tbody>\n",
       "</table>\n",
       "</div>"
      ],
      "text/plain": [
       "          f1        f2        f3        f4        f5        f6        f7  \\\n",
       "Id                                                                         \n",
       "0   5.041817  7.498310  5.401499  3.883370  7.797436  2.025388  7.502592   \n",
       "1   4.652294  2.861292  5.892564  0.423987  0.338622  8.022461  4.223700   \n",
       "2   8.818132  4.353930  3.946465  1.500516  7.003775  8.552916  7.685059   \n",
       "3   1.888474  3.742576  5.627763  1.322057  7.008867  4.520829  5.226385   \n",
       "4   6.729722  0.852275  5.909109  6.610019  1.526279  2.566016  1.597667   \n",
       "\n",
       "          f8        f9       f10        target  \n",
       "Id                                              \n",
       "0   5.734742  7.145297  5.595310  2.049162e+19  \n",
       "1   1.111940  1.357083  2.823124  1.424015e+07  \n",
       "2   6.912199  1.600199  7.300040  3.435237e+19  \n",
       "3   5.377312  7.077503  6.205178  1.098084e+04  \n",
       "4   3.637468  1.255301  2.154177  2.448640e+03  "
      ]
     },
     "execution_count": 3,
     "metadata": {},
     "output_type": "execute_result"
    }
   ],
   "source": [
    "df = pd.read_csv(\"./X_labeled.csv\", index_col='Id')\n",
    "df.head()"
   ]
  },
  {
   "cell_type": "code",
   "execution_count": 4,
   "metadata": {},
   "outputs": [
    {
     "name": "stdout",
     "output_type": "stream",
     "text": [
      "(1000000, 10)\n",
      "(1000000,)\n"
     ]
    }
   ],
   "source": [
    "data = df.values\n",
    "X, y = data[:, :-1], data[:, -1]\n",
    "print X.shape\n",
    "print y.shape"
   ]
  },
  {
   "cell_type": "code",
   "execution_count": 5,
   "metadata": {
    "collapsed": true
   },
   "outputs": [],
   "source": [
    "X_train, X_test, y_train, y_test = train_test_split(X, y)"
   ]
  },
  {
   "cell_type": "code",
   "execution_count": 6,
   "metadata": {},
   "outputs": [
    {
     "name": "stdout",
     "output_type": "stream",
     "text": [
      "(1000000,)\n"
     ]
    }
   ],
   "source": [
    "ind = np.arange(0, X.shape[0])\n",
    "np.random.shuffle(ind)\n",
    "print ind.shape"
   ]
  },
  {
   "cell_type": "code",
   "execution_count": 7,
   "metadata": {},
   "outputs": [
    {
     "name": "stdout",
     "output_type": "stream",
     "text": [
      "(10000, 10)\n",
      "(10000,)\n"
     ]
    }
   ],
   "source": [
    "start_size = int(X.shape[0] * 0.01)\n",
    "X_start, y_start = X[ind[:start_size]], y[ind[:start_size]]\n",
    "print X_start.shape\n",
    "print y_start.shape"
   ]
  },
  {
   "cell_type": "code",
   "execution_count": 8,
   "metadata": {},
   "outputs": [
    {
     "name": "stdout",
     "output_type": "stream",
     "text": [
      "(990000, 10)\n",
      "(990000,)\n"
     ]
    }
   ],
   "source": [
    "X_unlabeled = X[ind[start_size:]]\n",
    "y_unlabeled = y[ind[start_size:]]\n",
    "print X_unlabeled.shape\n",
    "print y_unlabeled.shape"
   ]
  },
  {
   "cell_type": "code",
   "execution_count": 9,
   "metadata": {
    "collapsed": true
   },
   "outputs": [],
   "source": [
    "model = BaggingRegressor(n_estimators=10, n_jobs=-1)\n",
    "model2 = GradientBoostingRegressor(n_estimators=100)"
   ]
  },
  {
   "cell_type": "code",
   "execution_count": 23,
   "metadata": {
    "collapsed": true
   },
   "outputs": [],
   "source": [
    "epoch_num = 500\n",
    "best_n = 100\n",
    "#X_labeled = X_start\n",
    "#y_labeled = y_start\n",
    "#X_unlabeled = X[ind[start_size:]]\n",
    "#y_unlabeled = y[ind[start_size:]]\n",
    "#score = []\n",
    "#x_axis = []"
   ]
  },
  {
   "cell_type": "code",
   "execution_count": null,
   "metadata": {},
   "outputs": [],
   "source": [
    "for epoch in xrange(epoch_num):\n",
    "    \n",
    "        \n",
    "    if epoch % 10 == 0:\n",
    "        model2.fit(X_labeled, y_labeled)\n",
    "        target = model2.predict(X)\n",
    "        score.append(explained_variance_score(y, target))\n",
    "        x_axis.append(X_labeled.shape[0]/float(X_train.shape[0]))\n",
    "        print epoch\n",
    "        print score[-1]\n",
    "        print \"================\"\n",
    "    \n",
    "    model.fit(X_labeled, y_labeled)\n",
    "    target = np.zeros((len(model.estimators_), y_unlabeled.shape[0]))\n",
    "    \n",
    "    for i, estimator in enumerate(model.estimators_):\n",
    "        target[i] = estimator.predict(X_unlabeled)\n",
    "    deviation = np.std(target, axis=0)\n",
    "    partition = np.argpartition(deviation, -best_n)\n",
    "    best_points_ind = partition[-best_n:]\n",
    "    X_labeled = np.concatenate((X_labeled, X_unlabeled[best_points_ind]))\n",
    "    y_labeled = np.concatenate((y_labeled, y_unlabeled[best_points_ind]))\n",
    "    X_unlabeled = X_unlabeled[partition[:-best_n]]\n",
    "    y_unlabeled = y_unlabeled[partition[:-best_n]]\n",
    "    "
   ]
  },
  {
   "cell_type": "code",
   "execution_count": 29,
   "metadata": {},
   "outputs": [
    {
     "data": {
      "text/plain": [
       "713"
      ]
     },
     "execution_count": 29,
     "metadata": {},
     "output_type": "execute_result"
    }
   ],
   "source": [
    "np.argmax(score)"
   ]
  },
  {
   "cell_type": "code",
   "execution_count": 15,
   "metadata": {},
   "outputs": [
    {
     "data": {
      "text/plain": [
       "[<matplotlib.lines.Line2D at 0x7fe32fad7810>]"
      ]
     },
     "execution_count": 15,
     "metadata": {},
     "output_type": "execute_result"
    },
    {
     "data": {
      "image/png": "[encoded data removed]",
      "text/plain": [
       "<matplotlib.figure.Figure at 0x7fe339e903d0>"
      ]
     },
     "metadata": {},
     "output_type": "display_data"
    }
   ],
   "source": [
    "plt.plot(x_axis, score)"
   ]
  },
  {
   "cell_type": "code",
   "execution_count": 87,
   "metadata": {},
   "outputs": [
    {
     "data": {
      "text/plain": [
       "0.65302971863208947"
      ]
     },
     "execution_count": 87,
     "metadata": {},
     "output_type": "execute_result"
    }
   ],
   "source": [
    "score[0]"
   ]
  },
  {
   "cell_type": "code",
   "execution_count": 16,
   "metadata": {},
   "outputs": [
    {
     "data": {
      "text/plain": [
       "0.99254405638164589"
      ]
     },
     "execution_count": 16,
     "metadata": {},
     "output_type": "execute_result"
    }
   ],
   "source": [
    "score[-1]"
   ]
  },
  {
   "cell_type": "code",
   "execution_count": 17,
   "metadata": {},
   "outputs": [
    {
     "data": {
      "text/plain": [
       "(60000, 10)"
      ]
     },
     "execution_count": 17,
     "metadata": {},
     "output_type": "execute_result"
    }
   ],
   "source": [
    "X_labeled.shape"
   ]
  },
  {
   "cell_type": "code",
   "execution_count": 61,
   "metadata": {
    "collapsed": true
   },
   "outputs": [],
   "source": [
    "model = RandomForestRegressor(n_estimators=300, n_jobs=-1)\n",
    "model.fit(X_labeled, y_labeled)\n",
    "target = model.predict(X_test)"
   ]
  },
  {
   "cell_type": "code",
   "execution_count": 62,
   "metadata": {},
   "outputs": [
    {
     "name": "stdout",
     "output_type": "stream",
     "text": [
      "0.962614670445\n",
      "2.85811729428e+94\n"
     ]
    }
   ],
   "source": [
    "print explained_variance_score(y_test, target)\n",
    "print mean_squared_error(y_test, target)"
   ]
  },
  {
   "cell_type": "code",
   "execution_count": 32,
   "metadata": {},
   "outputs": [
    {
     "data": {
      "text/plain": [
       "(60400, 10)"
      ]
     },
     "execution_count": 32,
     "metadata": {},
     "output_type": "execute_result"
    }
   ],
   "source": [
    "X_labeled.shape"
   ]
  },
  {
   "cell_type": "code",
   "execution_count": 38,
   "metadata": {},
   "outputs": [
    {
     "name": "stdout",
     "output_type": "stream",
     "text": [
      "0.971826263606\n",
      "1.23624415748e+94\n"
     ]
    }
   ],
   "source": [
    "model = GradientBoostingRegressor(n_estimators=100)\n",
    "model.fit(X_labeled[:713*100], y_labeled[:713*100])\n",
    "target = model.predict(X)\n",
    "print explained_variance_score(y, target)\n",
    "print mean_squared_error(y, target)"
   ]
  },
  {
   "cell_type": "code",
   "execution_count": 18,
   "metadata": {},
   "outputs": [
    {
     "name": "stdout",
     "output_type": "stream",
     "text": [
      "0.99599707281\n",
      "2.35675051011e+93\n"
     ]
    }
   ],
   "source": [
    "model = GradientBoostingRegressor(n_estimators=500)\n",
    "model.fit(X_labeled, y_labeled)\n",
    "target = model.predict(X)\n",
    "print explained_variance_score(y, target)\n",
    "print mean_squared_error(y, target)"
   ]
  },
  {
   "cell_type": "code",
   "execution_count": 19,
   "metadata": {},
   "outputs": [
    {
     "name": "stdout",
     "output_type": "stream",
     "text": [
      "0.996325417962\n",
      "2.12396213892e+93\n"
     ]
    }
   ],
   "source": [
    "model = GradientBoostingRegressor(n_estimators=900)\n",
    "model.fit(X_labeled, y_labeled)\n",
    "target = model.predict(X_test)\n",
    "print explained_variance_score(y_test, target)\n",
    "print mean_squared_error(y_test, target)"
   ]
  },
  {
   "cell_type": "code",
   "execution_count": 20,
   "metadata": {},
   "outputs": [
    {
     "name": "stdout",
     "output_type": "stream",
     "text": [
      "0.99568268648\n",
      "2.54137551522e+93\n"
     ]
    }
   ],
   "source": [
    "model = RandomForestRegressor(n_estimators=500, n_jobs=-1)\n",
    "model.fit(X_labeled, y_labeled)\n",
    "target = model.predict(X)\n",
    "print explained_variance_score(y, target)\n",
    "print mean_squared_error(y, target)"
   ]
  },
  {
   "cell_type": "code",
   "execution_count": 42,
   "metadata": {},
   "outputs": [
    {
     "data": {
      "text/html": [
       "<div>\n",
       "<style>\n",
       "    .dataframe thead tr:only-child th {\n",
       "        text-align: right;\n",
       "    }\n",
       "\n",
       "    .dataframe thead th {\n",
       "        text-align: left;\n",
       "    }\n",
       "\n",
       "    .dataframe tbody tr th {\n",
       "        vertical-align: top;\n",
       "    }\n",
       "</style>\n",
       "<table border=\"1\" class=\"dataframe\">\n",
       "  <thead>\n",
       "    <tr style=\"text-align: right;\">\n",
       "      <th></th>\n",
       "      <th>Id</th>\n",
       "      <th>target</th>\n",
       "    </tr>\n",
       "  </thead>\n",
       "  <tbody>\n",
       "    <tr>\n",
       "      <th>0</th>\n",
       "      <td>1</td>\n",
       "      <td>1.096922e+45</td>\n",
       "    </tr>\n",
       "    <tr>\n",
       "      <th>1</th>\n",
       "      <td>2</td>\n",
       "      <td>2.272743e+45</td>\n",
       "    </tr>\n",
       "    <tr>\n",
       "      <th>2</th>\n",
       "      <td>3</td>\n",
       "      <td>-2.198373e+45</td>\n",
       "    </tr>\n",
       "    <tr>\n",
       "      <th>3</th>\n",
       "      <td>4</td>\n",
       "      <td>3.369950e+44</td>\n",
       "    </tr>\n",
       "    <tr>\n",
       "      <th>4</th>\n",
       "      <td>5</td>\n",
       "      <td>6.188249e+44</td>\n",
       "    </tr>\n",
       "  </tbody>\n",
       "</table>\n",
       "</div>"
      ],
      "text/plain": [
       "   Id        target\n",
       "0   1  1.096922e+45\n",
       "1   2  2.272743e+45\n",
       "2   3 -2.198373e+45\n",
       "3   4  3.369950e+44\n",
       "4   5  6.188249e+44"
      ]
     },
     "execution_count": 42,
     "metadata": {},
     "output_type": "execute_result"
    }
   ],
   "source": [
    "df = pd.read_csv(\"./X_public.csv\", index_col='Id')\n",
    "X = df.values\n",
    "target = model.predict(X)\n",
    "index = np.arange(1, target.shape[0]+1).astype(int)\n",
    "df1 = pd.DataFrame({'Id':index, \"target\":target})\n",
    "df1.head()"
   ]
  },
  {
   "cell_type": "code",
   "execution_count": 43,
   "metadata": {
    "collapsed": true
   },
   "outputs": [],
   "source": [
    "df1.to_csv('./result.csv', index=False)"
   ]
  },
  {
   "cell_type": "code",
   "execution_count": null,
   "metadata": {
    "collapsed": true
   },
   "outputs": [],
   "source": []
  },
  {
   "cell_type": "code",
   "execution_count": null,
   "metadata": {
    "collapsed": true
   },
   "outputs": [],
   "source": []
  },
  {
   "cell_type": "code",
   "execution_count": null,
   "metadata": {
    "collapsed": true
   },
   "outputs": [],
   "source": []
  }
 ],
 "metadata": {
  "kernelspec": {
   "display_name": "Python 2",
   "language": "python",
   "name": "python2"
  },
  "language_info": {
   "codemirror_mode": {
    "name": "ipython",
    "version": 2
   },
   "file_extension": ".py",
   "mimetype": "text/x-python",
   "name": "python",
   "nbconvert_exporter": "python",
   "pygments_lexer": "ipython2",
   "version": "2.7.14"
  }
 },
 "nbformat": 4,
 "nbformat_minor": 2
}

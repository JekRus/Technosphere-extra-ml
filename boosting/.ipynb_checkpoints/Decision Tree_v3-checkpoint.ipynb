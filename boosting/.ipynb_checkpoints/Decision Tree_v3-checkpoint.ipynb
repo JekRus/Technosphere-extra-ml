{
 "cells": [
  {
   "cell_type": "code",
   "execution_count": 1,
   "metadata": {
    "collapsed": true
   },
   "outputs": [],
   "source": [
    "import numpy as np\n",
    "import matplotlib.pyplot as plt\n",
    "from sklearn.base import BaseEstimator, ClassifierMixin, RegressorMixin\n",
    "\n",
    "%matplotlib inline\n",
    "\n",
    "plt.style.use('ggplot')\n",
    "plt.rcParams['figure.figsize'] = (12,5)\n",
    "\n",
    "%load_ext Cython"
   ]
  },
  {
   "cell_type": "code",
   "execution_count": 159,
   "metadata": {},
   "outputs": [
    {
     "name": "stderr",
     "output_type": "stream",
     "text": [
      "\n",
      "Error compiling Cython file:\n",
      "------------------------------------------------------------\n",
      "...\n",
      "    \n",
      "    \n",
      "    @cython.boundscheck(False)\n",
      "    @cython.cdivision(True)\n",
      "    @cython.wraparound(False)\n",
      "    def make_split(self, np.ndarray[np.longdouble, ndim=2] X, np.ndarray[np.float64_t, ndim=1] y,\n",
      "                                                ^\n",
      "------------------------------------------------------------\n",
      "\n",
      "/home/ritorepulso/.cache/ipython/cython/_cython_magic_551f7613cb30cdc543b3a7c9499df660.pyx:120:49: Invalid type.\n"
     ]
    },
    {
     "ename": "TypeError",
     "evalue": "object of type 'NoneType' has no len()",
     "output_type": "error",
     "traceback": [
      "\u001b[0;31m---------------------------------------------------------------------------\u001b[0m",
      "\u001b[0;31mTypeError\u001b[0m                                 Traceback (most recent call last)",
      "\u001b[0;32m<ipython-input-159-b2394f0cb3ab>\u001b[0m in \u001b[0;36m<module>\u001b[0;34m()\u001b[0m\n\u001b[0;32m----> 1\u001b[0;31m \u001b[0mget_ipython\u001b[0m\u001b[0;34m(\u001b[0m\u001b[0;34m)\u001b[0m\u001b[0;34m.\u001b[0m\u001b[0mrun_cell_magic\u001b[0m\u001b[0;34m(\u001b[0m\u001b[0;34mu'cython'\u001b[0m\u001b[0;34m,\u001b[0m \u001b[0;34mu'-a'\u001b[0m\u001b[0;34m,\u001b[0m \u001b[0;34mu'import numpy as np\\ncimport numpy as np\\nimport cython\\nfrom libc.math cimport abs\\nfrom sklearn.base import BaseEstimator, ClassifierMixin, RegressorMixin\\n\\nclass Tree:\\n    def __init__(self):\\n        self.depth = 0\\n        self.feature_ind = 0\\n        self.threshold_ind = 0\\n        self.threshold = 0.0\\n        self.gain = 1.0\\n        self.samples = None\\n        self.mse = None\\n        self.prediction = None\\n        self.left = None\\n        self.right = None\\n\\n\\nclass Decision_tree_:\\n    \"\"\"My Decision tree\"\"\"\\n    \\n    def __init__(self, int max_depth=10000, int min_samples_split=2, double min_impurity=1e-17, double min_gain=0.0):\\n        self.max_depth = max_depth\\n        self.min_samples_split = min_samples_split\\n        self.min_impurity = min_impurity\\n        self.min_gain = min_gain\\n        self.tree = None\\n    \\n    def presort(self, np.ndarray[np.float64_t, ndim=2] X):\\n        return np.asfortranarray(np.argsort(X, axis=0).T)\\n    \\n    def mse(self, np.ndarray[np.float64_t, ndim=1] y):\\n        return 1.0/float(y.size) * np.sum((y - np.mean(y))**2)\\n    \\n    def stop_criterion(self, tree, np.ndarray[np.float64_t, ndim=1] y):\\n        if tree.depth == self.max_depth:\\n            return True\\n        if y.size < self.min_samples_split:\\n            return True\\n        if len(np.unique(y)) == 1:\\n            return True\\n        if tree.gain <= self.min_gain:\\n            return True\\n        if self.mse(y) <= self.min_impurity:\\n            return True\\n        return False\\n    \\n    @cython.boundscheck(False)\\n    @cython.cdivision(True)\\n    @cython.wraparound(False)\\n    def best_split(self, np.ndarray[np.float64_t, ndim=2] X, np.ndarray[np.float64_t, ndim=1] y, \\n                    np.ndarray[long, ndim=2] sorted_ind):\\n        ##basic initialization\\n        cdef int best_feature_ind, best_threshold_ind, y_size\\n        cdef double max_gain, best_threshold, y_sum, y_sum_sq, y_impurity\\n        \\n        max_gain = 0.0\\n        best_feature_ind = 0\\n        best_threshold = 0.0\\n        best_threshold_ind = 0\\n        y_sum = 0.0\\n        y_sum_sq = 0.0\\n        y_size = y.size\\n        #precalculate sum, sum of squares and impurity of the whole set\\n        cdef int i\\n        for i in xrange(y_size):\\n            y_sum += y[i]\\n            y_sum_sq += y[i]**2\\n        \\n        y_impurity = (y_sum_sq - y_sum**2/float(y_size))/float(y_size)\\n        #preloop initialization\\n        cdef int feature_ind, t_ind\\n        cdef np.ndarray[np.float64_t, ndim=2] X_transpose\\n        cdef np.ndarray[np.float64_t, ndim=1] feature_sorted, y_sorted\\n        cdef double left_size, right_size, left_sum, left_sum_sq, right_sum, right_sum_sq\\n        cdef double left_impurity, right_impurity, information_gain\\n        \\n        X_transpose = np.asfortranarray(X.T)\\n        #loop on features, searching best threshold\\n        for feature_ind in xrange(self.features_num):\\n            feature_sorted = X_transpose[feature_ind][sorted_ind[feature_ind]]\\n            y_sorted = y[sorted_ind[feature_ind]]\\n            \\n            left_size, right_size = 0.0, float(y_size)\\n            left_sum = left_sum_sq = 0.0\\n            right_sum = y_sum\\n            right_sum_sq = y_sum_sq\\n            \\n            for t_ind in xrange(y_size - 1):\\n                left_sum += y_sorted[t_ind]\\n                right_sum -= y_sorted[t_ind]\\n                left_sum_sq += y_sorted[t_ind]**2\\n                right_sum_sq -= y_sorted[t_ind]**2\\n                left_size += 1.0\\n                right_size -= 1.0\\n                \\n                if abs(feature_sorted[t_ind] - feature_sorted[t_ind + 1]) < 1e-250:\\n                    continue\\n                #if y_sorted[t_ind] == y_sorted[t_ind+1]:\\n                 #   continue\\n                 \\n                left_impurity = left_sum_sq - 1.0/left_size * left_sum**2\\n                right_impurity = right_sum_sq - 1.0/right_size * right_sum**2\\n                information_gain = y_impurity - 1.0/float(y_size) * (left_impurity + right_impurity)\\n                \\n                if information_gain > max_gain:\\n                    max_gain = information_gain\\n                    best_feature_ind = feature_ind\\n                    best_threshold = (feature_sorted[t_ind] + feature_sorted[t_ind + 1])/2.0\\n                    best_threshold_ind = t_ind\\n                    \\n        return [max_gain, best_feature_ind, best_threshold, best_threshold_ind]\\n    \\n    \\n    @cython.boundscheck(False)\\n    @cython.cdivision(True)\\n    @cython.wraparound(False)\\n    def make_split(self, np.ndarray[np.longdouble, ndim=2] X, np.ndarray[np.float64_t, ndim=1] y,\\n                   np.ndarray[long, ndim=2] sorted_ind, int feature_ind, double threshold):\\n        cdef np.ndarray[long, ndim=2] sorted_ind_left, sorted_ind_right\\n        cdef np.ndarray[long, ndim=1] left, right, sorted_1d\\n        cdef dict index_dict_left, index_dict_right\\n        \\n        condition = X.T[feature_ind] <= threshold\\n        left = np.where(condition)[0]\\n        right = np.where(np.invert(condition))[0]\\n        index_dict_left = {}\\n        index_dict_right = {}\\n        cdef int i\\n        \\n        for i in xrange(left.shape[0]):\\n            index_dict_left[left[i]] = i\\n        for i in xrange(right.shape[0]):\\n            index_dict_right[right[i]] = i\\n            \\n        sorted_ind_left = np.zeros((self.features_num, left.shape[0])).astype(int)\\n        sorted_ind_right = np.zeros((self.features_num, right.shape[0])).astype(int)\\n        cdef int f_ind, idx_left, idx_right    \\n        \\n        for f_ind in xrange(self.features_num):\\n            sorted_1d = sorted_ind[f_ind]\\n            idx_left = 0\\n            idx_right = 0\\n            for i in xrange(sorted_1d.shape[0]):\\n                if sorted_1d[i] in index_dict_left:\\n                    sorted_ind_left[f_ind][idx_left] = index_dict_left[sorted_1d[i]]\\n                    idx_left += 1\\n                else:\\n                    sorted_ind_right[f_ind][idx_right] = index_dict_right[sorted_1d[i]]\\n                    idx_right += 1\\n        return X[left], y[left], X[right], y[right], sorted_ind_left, sorted_ind_right\\n    \\n    \\n    def build(self, np.ndarray[np.float64_t, ndim=2] X, np.ndarray[np.float64_t, ndim=1] y,\\n              np.ndarray[long, ndim=2] sorted_ind, int depth=0):\\n        tree = Tree()\\n        tree.depth = depth\\n        tree.prediction = np.mean(y)\\n        tree.samples = y.size\\n        tree.mse = self.mse(y)\\n\\n        cdef np.ndarray[long, ndim=2] sorted_ind_left, sorted_ind_right\\n        cdef np.ndarray[long, ndim=1] sorted_1d\\n        cdef double gain\\n        cdef list index_list\\n        cdef int i, f_ind\\n        \\n        if not self.stop_criterion(tree, y):\\n            tree.gain, tree.feature_ind, tree.threshold, tree.threshold_ind = self.best_split(X, y, sorted_ind)\\n            X_left, y_left, X_right, y_right, sorted_ind_left, sorted_ind_right = self.make_split(X, y,\\n                                                                                                  sorted_ind, \\n                                                                                                  tree.feature_ind, \\n                                                                                                  tree.threshold)\\n            tree.left = self.build(X_left, y_left, sorted_ind_left, tree.depth+1)\\n            tree.right = self.build(X_right, y_right, sorted_ind_right, tree.depth+1)\\n        return tree\\n    \\n    \\n    def fit(self, np.ndarray[np.float64_t, ndim=2] X, np.ndarray[np.float64_t, ndim=1] y):\\n        cdef int features_num\\n        cdef np.ndarray[long, ndim=2] sorted_ind\\n        \\n        self.features_num = X.shape[1]\\n        sorted_ind = self.presort(X)\\n        self.tree = self.build(X, y, sorted_ind)\\n        return\\n    \\n\\n    def evaluate_tree(self, np.ndarray[np.float64_t, ndim=2] X, tree):\\n        cdef np.ndarray[np.float64_t, ndim=1] left_prediction, rigth_prediction, prediction\\n        \\n        if tree.left == None:\\n            return tree.prediction * np.ones(X.shape[0])\\n        left_index = X.T[tree.feature_ind] <= tree.threshold\\n        right_index = np.invert(left_index)\\n        \\n        left_prediction = self.evaluate_tree(X[left_index], tree.left)\\n        right_prediction = self.evaluate_tree(X[right_index], tree.right)\\n        prediction = np.zeros(X.shape[0])\\n        prediction[left_index] = left_prediction\\n        prediction[right_index] = right_prediction\\n        return prediction\\n        \\n    \\n    def predict(self, np.ndarray[np.float64_t, ndim=2] X):\\n        cdef np.ndarray[np.float64_t, ndim=1] prediction\\n        prediction = self.evaluate_tree(X, self.tree)\\n        return prediction\\n    \\n    \\n    def add_weights_node(self, X, y, sigmoid_output, antigradient, tree):\\n        if tree.left == None:\\n            numerator = np.sum(antigradient)\\n            denominator = np.sum(sigmoid_output*(1.0 - sigmoid_output))\\n            if abs(denominator) < 1e-150:\\n                tree.prediction = 0.0\\n            else:\\n                tree.prediction = numerator / denominator\\n            \\n            return\\n        left_index = X.T[tree.feature_ind] <= tree.threshold\\n        right_index = np.invert(left_index)\\n        self.add_weights_node(X[left_index], y[left_index], sigmoid_output[left_index],\\n                              antigradient[left_index], tree.left)\\n        self.add_weights_node(X[right_index], y[right_index], sigmoid_output[right_index],\\n                              antigradient[right_index], tree.right)\\n        return\\n    \\n    def add_weights(self, X, y, sigmoid_output, antigradient):\\n        self.add_weights_node(X, y, sigmoid_output, antigradient, self.tree)\\n        return\\n        \\n    \\n    def print_node(self, tree):\\n        print \"DEPTH: %d\" %tree.depth\\n        print \"feature_ind: %d\" %tree.feature_ind\\n        print \"threshold: %f\" %tree.threshold\\n        print \"samples: %d\" %tree.samples\\n        print \"gain: %f\" %tree.gain\\n        print \"mse: %f\" %tree.mse\\n        print \"prediction: %f\" %tree.prediction\\n        print \"========================\"\\n        if tree.left is None:\\n            return\\n        else:\\n            self.print_node(tree.left)\\n            self.print_node(tree.right)\\n        return\\n    \\n    def print_tree(self):\\n        self.print_node(self.tree)\\n        return\\n        '\u001b[0m\u001b[0;34m)\u001b[0m\u001b[0;34m\u001b[0m\u001b[0m\n\u001b[0m",
      "\u001b[0;32m/home/ritorepulso/anaconda2/lib/python2.7/site-packages/IPython/core/interactiveshell.pyc\u001b[0m in \u001b[0;36mrun_cell_magic\u001b[0;34m(self, magic_name, line, cell)\u001b[0m\n\u001b[1;32m   2115\u001b[0m             \u001b[0mmagic_arg_s\u001b[0m \u001b[0;34m=\u001b[0m \u001b[0mself\u001b[0m\u001b[0;34m.\u001b[0m\u001b[0mvar_expand\u001b[0m\u001b[0;34m(\u001b[0m\u001b[0mline\u001b[0m\u001b[0;34m,\u001b[0m \u001b[0mstack_depth\u001b[0m\u001b[0;34m)\u001b[0m\u001b[0;34m\u001b[0m\u001b[0m\n\u001b[1;32m   2116\u001b[0m             \u001b[0;32mwith\u001b[0m \u001b[0mself\u001b[0m\u001b[0;34m.\u001b[0m\u001b[0mbuiltin_trap\u001b[0m\u001b[0;34m:\u001b[0m\u001b[0;34m\u001b[0m\u001b[0m\n\u001b[0;32m-> 2117\u001b[0;31m                 \u001b[0mresult\u001b[0m \u001b[0;34m=\u001b[0m \u001b[0mfn\u001b[0m\u001b[0;34m(\u001b[0m\u001b[0mmagic_arg_s\u001b[0m\u001b[0;34m,\u001b[0m \u001b[0mcell\u001b[0m\u001b[0;34m)\u001b[0m\u001b[0;34m\u001b[0m\u001b[0m\n\u001b[0m\u001b[1;32m   2118\u001b[0m             \u001b[0;32mreturn\u001b[0m \u001b[0mresult\u001b[0m\u001b[0;34m\u001b[0m\u001b[0m\n\u001b[1;32m   2119\u001b[0m \u001b[0;34m\u001b[0m\u001b[0m\n",
      "\u001b[0;32m<decorator-gen-125>\u001b[0m in \u001b[0;36mcython\u001b[0;34m(self, line, cell)\u001b[0m\n",
      "\u001b[0;32m/home/ritorepulso/anaconda2/lib/python2.7/site-packages/IPython/core/magic.pyc\u001b[0m in \u001b[0;36m<lambda>\u001b[0;34m(f, *a, **k)\u001b[0m\n\u001b[1;32m    186\u001b[0m     \u001b[0;31m# but it's overkill for just that one bit of state.\u001b[0m\u001b[0;34m\u001b[0m\u001b[0;34m\u001b[0m\u001b[0m\n\u001b[1;32m    187\u001b[0m     \u001b[0;32mdef\u001b[0m \u001b[0mmagic_deco\u001b[0m\u001b[0;34m(\u001b[0m\u001b[0marg\u001b[0m\u001b[0;34m)\u001b[0m\u001b[0;34m:\u001b[0m\u001b[0;34m\u001b[0m\u001b[0m\n\u001b[0;32m--> 188\u001b[0;31m         \u001b[0mcall\u001b[0m \u001b[0;34m=\u001b[0m \u001b[0;32mlambda\u001b[0m \u001b[0mf\u001b[0m\u001b[0;34m,\u001b[0m \u001b[0;34m*\u001b[0m\u001b[0ma\u001b[0m\u001b[0;34m,\u001b[0m \u001b[0;34m**\u001b[0m\u001b[0mk\u001b[0m\u001b[0;34m:\u001b[0m \u001b[0mf\u001b[0m\u001b[0;34m(\u001b[0m\u001b[0;34m*\u001b[0m\u001b[0ma\u001b[0m\u001b[0;34m,\u001b[0m \u001b[0;34m**\u001b[0m\u001b[0mk\u001b[0m\u001b[0;34m)\u001b[0m\u001b[0;34m\u001b[0m\u001b[0m\n\u001b[0m\u001b[1;32m    189\u001b[0m \u001b[0;34m\u001b[0m\u001b[0m\n\u001b[1;32m    190\u001b[0m         \u001b[0;32mif\u001b[0m \u001b[0mcallable\u001b[0m\u001b[0;34m(\u001b[0m\u001b[0marg\u001b[0m\u001b[0;34m)\u001b[0m\u001b[0;34m:\u001b[0m\u001b[0;34m\u001b[0m\u001b[0m\n",
      "\u001b[0;32m/home/ritorepulso/anaconda2/lib/python2.7/site-packages/Cython/Build/IpythonMagic.pyc\u001b[0m in \u001b[0;36mcython\u001b[0;34m(self, line, cell)\u001b[0m\n\u001b[1;32m    319\u001b[0m         \u001b[0;32mif\u001b[0m \u001b[0mneed_cythonize\u001b[0m\u001b[0;34m:\u001b[0m\u001b[0;34m\u001b[0m\u001b[0m\n\u001b[1;32m    320\u001b[0m             \u001b[0mextensions\u001b[0m \u001b[0;34m=\u001b[0m \u001b[0mself\u001b[0m\u001b[0;34m.\u001b[0m\u001b[0m_cythonize\u001b[0m\u001b[0;34m(\u001b[0m\u001b[0mmodule_name\u001b[0m\u001b[0;34m,\u001b[0m \u001b[0mcode\u001b[0m\u001b[0;34m,\u001b[0m \u001b[0mlib_dir\u001b[0m\u001b[0;34m,\u001b[0m \u001b[0margs\u001b[0m\u001b[0;34m,\u001b[0m \u001b[0mquiet\u001b[0m\u001b[0;34m=\u001b[0m\u001b[0margs\u001b[0m\u001b[0;34m.\u001b[0m\u001b[0mquiet\u001b[0m\u001b[0;34m)\u001b[0m\u001b[0;34m\u001b[0m\u001b[0m\n\u001b[0;32m--> 321\u001b[0;31m             \u001b[0;32massert\u001b[0m \u001b[0mlen\u001b[0m\u001b[0;34m(\u001b[0m\u001b[0mextensions\u001b[0m\u001b[0;34m)\u001b[0m \u001b[0;34m==\u001b[0m \u001b[0;36m1\u001b[0m\u001b[0;34m\u001b[0m\u001b[0m\n\u001b[0m\u001b[1;32m    322\u001b[0m             \u001b[0mextension\u001b[0m \u001b[0;34m=\u001b[0m \u001b[0mextensions\u001b[0m\u001b[0;34m[\u001b[0m\u001b[0;36m0\u001b[0m\u001b[0;34m]\u001b[0m\u001b[0;34m\u001b[0m\u001b[0m\n\u001b[1;32m    323\u001b[0m             \u001b[0mself\u001b[0m\u001b[0;34m.\u001b[0m\u001b[0m_code_cache\u001b[0m\u001b[0;34m[\u001b[0m\u001b[0mkey\u001b[0m\u001b[0;34m]\u001b[0m \u001b[0;34m=\u001b[0m \u001b[0mmodule_name\u001b[0m\u001b[0;34m\u001b[0m\u001b[0m\n",
      "\u001b[0;31mTypeError\u001b[0m: object of type 'NoneType' has no len()"
     ]
    }
   ],
   "source": [
    "%%cython -a\n",
    "import numpy as np\n",
    "cimport numpy as np\n",
    "import cython\n",
    "from libc.math cimport abs\n",
    "from sklearn.base import BaseEstimator, ClassifierMixin, RegressorMixin\n",
    "\n",
    "class Tree:\n",
    "    def __init__(self):\n",
    "        self.depth = 0\n",
    "        self.feature_ind = 0\n",
    "        self.threshold_ind = 0\n",
    "        self.threshold = 0.0\n",
    "        self.gain = 1.0\n",
    "        self.samples = None\n",
    "        self.mse = None\n",
    "        self.prediction = None\n",
    "        self.left = None\n",
    "        self.right = None\n",
    "\n",
    "\n",
    "class Decision_tree_:\n",
    "    \"\"\"My Decision tree\"\"\"\n",
    "    \n",
    "    def __init__(self, int max_depth=10000, int min_samples_split=2, double min_impurity=1e-17, double min_gain=0.0):\n",
    "        self.max_depth = max_depth\n",
    "        self.min_samples_split = min_samples_split\n",
    "        self.min_impurity = min_impurity\n",
    "        self.min_gain = min_gain\n",
    "        self.tree = None\n",
    "    \n",
    "    def presort(self, np.ndarray[np.float64_t, ndim=2] X):\n",
    "        return np.asfortranarray(np.argsort(X, axis=0).T)\n",
    "    \n",
    "    def mse(self, np.ndarray[np.float64_t, ndim=1] y):\n",
    "        return 1.0/float(y.size) * np.sum((y - np.mean(y))**2)\n",
    "    \n",
    "    def stop_criterion(self, tree, np.ndarray[np.float64_t, ndim=1] y):\n",
    "        if tree.depth == self.max_depth:\n",
    "            return True\n",
    "        if y.size < self.min_samples_split:\n",
    "            return True\n",
    "        if len(np.unique(y)) == 1:\n",
    "            return True\n",
    "        if tree.gain <= self.min_gain:\n",
    "            return True\n",
    "        if self.mse(y) <= self.min_impurity:\n",
    "            return True\n",
    "        return False\n",
    "    \n",
    "    @cython.boundscheck(False)\n",
    "    @cython.cdivision(True)\n",
    "    @cython.wraparound(False)\n",
    "    def best_split(self, np.ndarray[np.float64_t, ndim=2] X, np.ndarray[np.float64_t, ndim=1] y, \n",
    "                    np.ndarray[long, ndim=2] sorted_ind):\n",
    "        ##basic initialization\n",
    "        cdef int best_feature_ind, best_threshold_ind, y_size\n",
    "        cdef double max_gain, best_threshold, y_sum, y_sum_sq, y_impurity\n",
    "        \n",
    "        max_gain = 0.0\n",
    "        best_feature_ind = 0\n",
    "        best_threshold = 0.0\n",
    "        best_threshold_ind = 0\n",
    "        y_sum = 0.0\n",
    "        y_sum_sq = 0.0\n",
    "        y_size = y.size\n",
    "        #precalculate sum, sum of squares and impurity of the whole set\n",
    "        cdef int i\n",
    "        for i in xrange(y_size):\n",
    "            y_sum += y[i]\n",
    "            y_sum_sq += y[i]**2\n",
    "        \n",
    "        y_impurity = (y_sum_sq - y_sum**2/float(y_size))/float(y_size)\n",
    "        #preloop initialization\n",
    "        cdef int feature_ind, t_ind\n",
    "        cdef np.ndarray[np.float64_t, ndim=2] X_transpose\n",
    "        cdef np.ndarray[np.float64_t, ndim=1] feature_sorted, y_sorted\n",
    "        cdef double left_size, right_size, left_sum, left_sum_sq, right_sum, right_sum_sq\n",
    "        cdef double left_impurity, right_impurity, information_gain\n",
    "        \n",
    "        X_transpose = np.asfortranarray(X.T)\n",
    "        #loop on features, searching best threshold\n",
    "        for feature_ind in xrange(self.features_num):\n",
    "            feature_sorted = X_transpose[feature_ind][sorted_ind[feature_ind]]\n",
    "            y_sorted = y[sorted_ind[feature_ind]]\n",
    "            \n",
    "            left_size, right_size = 0.0, float(y_size)\n",
    "            left_sum = left_sum_sq = 0.0\n",
    "            right_sum = y_sum\n",
    "            right_sum_sq = y_sum_sq\n",
    "            \n",
    "            for t_ind in xrange(y_size - 1):\n",
    "                left_sum += y_sorted[t_ind]\n",
    "                right_sum -= y_sorted[t_ind]\n",
    "                left_sum_sq += y_sorted[t_ind]**2\n",
    "                right_sum_sq -= y_sorted[t_ind]**2\n",
    "                left_size += 1.0\n",
    "                right_size -= 1.0\n",
    "                \n",
    "                if abs(feature_sorted[t_ind] - feature_sorted[t_ind + 1]) < 1e-250:\n",
    "                    continue\n",
    "                #if y_sorted[t_ind] == y_sorted[t_ind+1]:\n",
    "                 #   continue\n",
    "                 \n",
    "                left_impurity = left_sum_sq - 1.0/left_size * left_sum**2\n",
    "                right_impurity = right_sum_sq - 1.0/right_size * right_sum**2\n",
    "                information_gain = y_impurity - 1.0/float(y_size) * (left_impurity + right_impurity)\n",
    "                \n",
    "                if information_gain > max_gain:\n",
    "                    max_gain = information_gain\n",
    "                    best_feature_ind = feature_ind\n",
    "                    best_threshold = (feature_sorted[t_ind] + feature_sorted[t_ind + 1])/2.0\n",
    "                    best_threshold_ind = t_ind\n",
    "                    \n",
    "        return [max_gain, best_feature_ind, best_threshold, best_threshold_ind]\n",
    "    \n",
    "    \n",
    "    @cython.boundscheck(False)\n",
    "    @cython.cdivision(True)\n",
    "    @cython.wraparound(False)\n",
    "    def make_split(self, np.ndarray[np.float64_t, ndim=2] X, np.ndarray[np.float64_t, ndim=1] y,\n",
    "                   np.ndarray[long, ndim=2] sorted_ind, int feature_ind, double threshold):\n",
    "        cdef np.ndarray[long, ndim=2] sorted_ind_left, sorted_ind_right\n",
    "        cdef np.ndarray[long, ndim=1] left, right, sorted_1d\n",
    "        cdef dict index_dict_left, index_dict_right\n",
    "        \n",
    "        condition = X.T[feature_ind] <= threshold\n",
    "        left = np.where(condition)[0]\n",
    "        right = np.where(np.invert(condition))[0]\n",
    "        index_dict_left = {}\n",
    "        index_dict_right = {}\n",
    "        cdef int i\n",
    "        \n",
    "        for i in xrange(left.shape[0]):\n",
    "            index_dict_left[left[i]] = i\n",
    "        for i in xrange(right.shape[0]):\n",
    "            index_dict_right[right[i]] = i\n",
    "            \n",
    "        sorted_ind_left = np.zeros((self.features_num, left.shape[0])).astype(int)\n",
    "        sorted_ind_right = np.zeros((self.features_num, right.shape[0])).astype(int)\n",
    "        cdef int f_ind, idx_left, idx_right    \n",
    "        \n",
    "        for f_ind in xrange(self.features_num):\n",
    "            sorted_1d = sorted_ind[f_ind]\n",
    "            idx_left = 0\n",
    "            idx_right = 0\n",
    "            for i in xrange(sorted_1d.shape[0]):\n",
    "                if sorted_1d[i] in index_dict_left:\n",
    "                    sorted_ind_left[f_ind][idx_left] = index_dict_left[sorted_1d[i]]\n",
    "                    idx_left += 1\n",
    "                else:\n",
    "                    sorted_ind_right[f_ind][idx_right] = index_dict_right[sorted_1d[i]]\n",
    "                    idx_right += 1\n",
    "        return X[left], y[left], X[right], y[right], sorted_ind_left, sorted_ind_right\n",
    "    \n",
    "    \n",
    "    def build(self, np.ndarray[np.float64_t, ndim=2] X, np.ndarray[np.float64_t, ndim=1] y,\n",
    "              np.ndarray[long, ndim=2] sorted_ind, int depth=0):\n",
    "        tree = Tree()\n",
    "        tree.depth = depth\n",
    "        tree.prediction = np.mean(y)\n",
    "        tree.samples = y.size\n",
    "        tree.mse = self.mse(y)\n",
    "\n",
    "        cdef np.ndarray[long, ndim=2] sorted_ind_left, sorted_ind_right\n",
    "        cdef np.ndarray[long, ndim=1] sorted_1d\n",
    "        cdef double gain\n",
    "        cdef list index_list\n",
    "        cdef int i, f_ind\n",
    "        \n",
    "        if not self.stop_criterion(tree, y):\n",
    "            tree.gain, tree.feature_ind, tree.threshold, tree.threshold_ind = self.best_split(X, y, sorted_ind)\n",
    "            X_left, y_left, X_right, y_right, sorted_ind_left, sorted_ind_right = self.make_split(X, y,\n",
    "                                                                                                  sorted_ind, \n",
    "                                                                                                  tree.feature_ind, \n",
    "                                                                                                  tree.threshold)\n",
    "            tree.left = self.build(X_left, y_left, sorted_ind_left, tree.depth+1)\n",
    "            tree.right = self.build(X_right, y_right, sorted_ind_right, tree.depth+1)\n",
    "        return tree\n",
    "    \n",
    "    \n",
    "    def fit(self, np.ndarray[np.float64_t, ndim=2] X, np.ndarray[np.float64_t, ndim=1] y):\n",
    "        cdef int features_num\n",
    "        cdef np.ndarray[long, ndim=2] sorted_ind\n",
    "        \n",
    "        self.features_num = X.shape[1]\n",
    "        sorted_ind = self.presort(X)\n",
    "        self.tree = self.build(X, y, sorted_ind)\n",
    "        return\n",
    "    \n",
    "\n",
    "    def evaluate_tree(self, np.ndarray[np.float64_t, ndim=2] X, tree):\n",
    "        cdef np.ndarray[np.float64_t, ndim=1] left_prediction, rigth_prediction, prediction\n",
    "        \n",
    "        if tree.left == None:\n",
    "            return tree.prediction * np.ones(X.shape[0])\n",
    "        left_index = X.T[tree.feature_ind] <= tree.threshold\n",
    "        right_index = np.invert(left_index)\n",
    "        \n",
    "        left_prediction = self.evaluate_tree(X[left_index], tree.left)\n",
    "        right_prediction = self.evaluate_tree(X[right_index], tree.right)\n",
    "        prediction = np.zeros(X.shape[0])\n",
    "        prediction[left_index] = left_prediction\n",
    "        prediction[right_index] = right_prediction\n",
    "        return prediction\n",
    "        \n",
    "    \n",
    "    def predict(self, np.ndarray[np.float64_t, ndim=2] X):\n",
    "        cdef np.ndarray[np.float64_t, ndim=1] prediction\n",
    "        prediction = self.evaluate_tree(X, self.tree)\n",
    "        return prediction\n",
    "    \n",
    "    \n",
    "    def add_weights_node(self, X, y, sigmoid_output, antigradient, tree):\n",
    "        if tree.left == None:\n",
    "            numerator = np.sum(antigradient)\n",
    "            denominator = np.sum(sigmoid_output*(1.0 - sigmoid_output))\n",
    "            if abs(denominator) < 1e-150:\n",
    "                tree.prediction = 0.0\n",
    "            else:\n",
    "                tree.prediction = numerator / denominator\n",
    "            \n",
    "            return\n",
    "        left_index = X.T[tree.feature_ind] <= tree.threshold\n",
    "        right_index = np.invert(left_index)\n",
    "        self.add_weights_node(X[left_index], y[left_index], sigmoid_output[left_index],\n",
    "                              antigradient[left_index], tree.left)\n",
    "        self.add_weights_node(X[right_index], y[right_index], sigmoid_output[right_index],\n",
    "                              antigradient[right_index], tree.right)\n",
    "        return\n",
    "    \n",
    "    def add_weights(self, X, y, sigmoid_output, antigradient):\n",
    "        self.add_weights_node(X, y, sigmoid_output, antigradient, self.tree)\n",
    "        return\n",
    "        \n",
    "    \n",
    "    def print_node(self, tree):\n",
    "        print \"DEPTH: %d\" %tree.depth\n",
    "        print \"feature_ind: %d\" %tree.feature_ind\n",
    "        print \"threshold: %f\" %tree.threshold\n",
    "        print \"samples: %d\" %tree.samples\n",
    "        print \"gain: %f\" %tree.gain\n",
    "        print \"mse: %f\" %tree.mse\n",
    "        print \"prediction: %f\" %tree.prediction\n",
    "        print \"========================\"\n",
    "        if tree.left is None:\n",
    "            return\n",
    "        else:\n",
    "            self.print_node(tree.left)\n",
    "            self.print_node(tree.right)\n",
    "        return\n",
    "    \n",
    "    def print_tree(self):\n",
    "        self.print_node(self.tree)\n",
    "        return\n",
    "        "
   ]
  },
  {
   "cell_type": "code",
   "execution_count": 118,
   "metadata": {
    "collapsed": true
   },
   "outputs": [],
   "source": [
    "class Decision_tree(Decision_tree_, BaseEstimator, RegressorMixin):\n",
    "    def __init__(self, max_depth=10000, min_samples_split=1, min_impurity=1e-50, min_gain=0.0):\n",
    "        super(Decision_tree, self).__init__(max_depth, min_samples_split, min_impurity, min_gain)\n"
   ]
  },
  {
   "cell_type": "code",
   "execution_count": 119,
   "metadata": {
    "collapsed": true
   },
   "outputs": [],
   "source": [
    "from sklearn.tree import DecisionTreeRegressor\n",
    "from sklearn.datasets import load_diabetes\n",
    "from sklearn.model_selection import cross_val_score\n",
    "from sklearn.datasets import make_regression\n",
    "from sklearn.metrics import accuracy_score\n",
    "from sklearn.metrics import r2_score\n",
    "X, y = make_regression(n_samples=1000, n_features=100,n_informative=10)\n",
    "reg = DecisionTreeRegressor(max_depth=50)\n",
    "reg2 = Decision_tree(max_depth=50)"
   ]
  },
  {
   "cell_type": "code",
   "execution_count": 120,
   "metadata": {
    "collapsed": true
   },
   "outputs": [],
   "source": [
    "reg.fit(X, y)\n",
    "t = reg.predict(X)"
   ]
  },
  {
   "cell_type": "code",
   "execution_count": 121,
   "metadata": {
    "collapsed": true
   },
   "outputs": [],
   "source": [
    "reg2.fit(X, y)"
   ]
  },
  {
   "cell_type": "code",
   "execution_count": 122,
   "metadata": {
    "collapsed": true
   },
   "outputs": [],
   "source": [
    "target = reg2.predict(X)"
   ]
  },
  {
   "cell_type": "code",
   "execution_count": 123,
   "metadata": {},
   "outputs": [
    {
     "name": "stdout",
     "output_type": "stream",
     "text": [
      "True\n",
      "True\n"
     ]
    }
   ],
   "source": [
    "print np.all(np.abs(target - y) < 1e-9)\n",
    "print np.all(np.abs(target - t) < 1e-9)"
   ]
  },
  {
   "cell_type": "code",
   "execution_count": 124,
   "metadata": {},
   "outputs": [
    {
     "name": "stdout",
     "output_type": "stream",
     "text": [
      "[ True]\n",
      "[1000]\n"
     ]
    }
   ],
   "source": [
    "unique, counts = np.unique(np.abs(t - target) < 1e-9, return_counts=True)\n",
    "print unique\n",
    "print counts"
   ]
  },
  {
   "cell_type": "code",
   "execution_count": 125,
   "metadata": {
    "collapsed": true
   },
   "outputs": [],
   "source": [
    "def parse_file(filename):\n",
    "    with open(filename) as f:\n",
    "        lines = f.readlines()\n",
    "    X = []\n",
    "    y = []\n",
    "    for i in xrange(len(lines)):\n",
    "        lines[i] = filter(len, lines[i].split(\"\\n\"))[0]\n",
    "        data = lines[i].split(' ')\n",
    "        X.append(map(float, data[1:]))\n",
    "        y.append(int(data[0]))\n",
    "    X_train = np.array(X)\n",
    "    y_train = np.array(y).astype(int)\n",
    "    return X_train, y_train"
   ]
  },
  {
   "cell_type": "code",
   "execution_count": 126,
   "metadata": {
    "collapsed": true
   },
   "outputs": [],
   "source": [
    "def calculate_h_0(y):\n",
    "    y_1_count = np.sum(y)\n",
    "    y_0_count = y.shape[0] - y_1_count\n",
    "    return np.log(y_1_count/float(y_0_count))\n",
    "    \n",
    "def sigmoid(X):\n",
    "    return 1.0/(1.0 + np.exp(-X))"
   ]
  },
  {
   "cell_type": "code",
   "execution_count": 127,
   "metadata": {
    "collapsed": true
   },
   "outputs": [],
   "source": [
    "X_train, y_train = parse_file(\"./dataset/spam.train.txt\")\n",
    "X_test, y_test = parse_file(\"./dataset/spam.test.txt\")"
   ]
  },
  {
   "cell_type": "code",
   "execution_count": 128,
   "metadata": {},
   "outputs": [],
   "source": [
    "data = []\n",
    "with open(\"residuals.txt\") as f:\n",
    "    data = f.readlines()"
   ]
  },
  {
   "cell_type": "code",
   "execution_count": 129,
   "metadata": {},
   "outputs": [],
   "source": [
    "residuals = []\n",
    "for d in data:\n",
    "    residuals.append(np.array(list(map(float, d.split('\\n')[0].split(' ')[:-1]))))"
   ]
  },
  {
   "cell_type": "code",
   "execution_count": 130,
   "metadata": {},
   "outputs": [
    {
     "data": {
      "text/plain": [
       "(7093, 102)"
      ]
     },
     "execution_count": 130,
     "metadata": {},
     "output_type": "execute_result"
    }
   ],
   "source": [
    "X_train.shape"
   ]
  },
  {
   "cell_type": "code",
   "execution_count": 131,
   "metadata": {
    "collapsed": true
   },
   "outputs": [],
   "source": [
    "N = 3\n",
    "reg = DecisionTreeRegressor(max_depth=N)\n",
    "reg2 = Decision_tree(max_depth=N)"
   ]
  },
  {
   "cell_type": "code",
   "execution_count": 132,
   "metadata": {
    "collapsed": true
   },
   "outputs": [],
   "source": [
    "reg.fit(X_train, residuals[0])\n",
    "reg2.fit(X_train, residuals[0])\n",
    "t = reg.predict(X_train)\n",
    "target = reg2.predict(X_train)"
   ]
  },
  {
   "cell_type": "code",
   "execution_count": 133,
   "metadata": {},
   "outputs": [
    {
     "data": {
      "text/plain": [
       "array([ 0.41872268,  0.41872268,  0.41872268, ..., -0.58127732,\n",
       "       -0.58127732, -0.58127732])"
      ]
     },
     "execution_count": 133,
     "metadata": {},
     "output_type": "execute_result"
    }
   ],
   "source": [
    "residuals[0]"
   ]
  },
  {
   "cell_type": "code",
   "execution_count": 134,
   "metadata": {},
   "outputs": [
    {
     "name": "stdout",
     "output_type": "stream",
     "text": [
      "[ True]\n",
      "[7093]\n"
     ]
    }
   ],
   "source": [
    "unique, counts = np.unique(abs(residuals[0]) < 1, return_counts=True)\n",
    "print unique\n",
    "print counts"
   ]
  },
  {
   "cell_type": "code",
   "execution_count": 135,
   "metadata": {},
   "outputs": [
    {
     "name": "stdout",
     "output_type": "stream",
     "text": [
      "False\n",
      "False\n",
      "True\n"
     ]
    }
   ],
   "source": [
    "print np.all(np.abs(y_train - t) < 1e-10)\n",
    "print np.all(np.abs(target - y_train) < 1e-10)\n",
    "print np.all(np.abs(target - t) < 1e-10)"
   ]
  },
  {
   "cell_type": "code",
   "execution_count": 136,
   "metadata": {
    "collapsed": true
   },
   "outputs": [],
   "source": [
    "predict1 = reg.predict(X_test)\n",
    "predict2 = reg2.predict(X_test)"
   ]
  },
  {
   "cell_type": "code",
   "execution_count": 137,
   "metadata": {},
   "outputs": [
    {
     "name": "stdout",
     "output_type": "stream",
     "text": [
      "-3.40341189246\n",
      "-3.43705444612\n"
     ]
    }
   ],
   "source": [
    "print r2_score(y_test, predict1)\n",
    "print r2_score(y_test, predict2)"
   ]
  },
  {
   "cell_type": "code",
   "execution_count": 149,
   "metadata": {},
   "outputs": [
    {
     "name": "stdout",
     "output_type": "stream",
     "text": [
      "[False  True]\n",
      "[1681 5412]\n"
     ]
    }
   ],
   "source": [
    "unique, counts = np.unique(np.abs(t - target) < 1e-14, return_counts=True)\n",
    "print unique\n",
    "print counts"
   ]
  },
  {
   "cell_type": "code",
   "execution_count": 139,
   "metadata": {},
   "outputs": [
    {
     "name": "stdout",
     "output_type": "stream",
     "text": [
      "0.36007697696093743378042972835828550159931182861328\n",
      "0.36007697696094209671713315401575528085231781005859\n"
     ]
    }
   ],
   "source": [
    "print \"%.50f\" %t[13]\n",
    "print \"%.50f\" %target[13]"
   ]
  },
  {
   "cell_type": "code",
   "execution_count": 140,
   "metadata": {},
   "outputs": [
    {
     "data": {
      "text/plain": [
       "4.6629367034256575e-15"
      ]
     },
     "execution_count": 140,
     "metadata": {},
     "output_type": "execute_result"
    }
   ],
   "source": [
    "abs(t[13] - target[13])"
   ]
  },
  {
   "cell_type": "code",
   "execution_count": 141,
   "metadata": {},
   "outputs": [
    {
     "data": {
      "text/plain": [
       "'tree.pdf'"
      ]
     },
     "execution_count": 141,
     "metadata": {},
     "output_type": "execute_result"
    }
   ],
   "source": [
    "import graphviz\n",
    "from sklearn import tree\n",
    "dot_data = tree.export_graphviz(reg, out_file=None) \n",
    "graph = graphviz.Source(dot_data) \n",
    "graph.render(\"tree\") "
   ]
  },
  {
   "cell_type": "code",
   "execution_count": 142,
   "metadata": {},
   "outputs": [
    {
     "data": {
      "image/svg+xml": [
       "<?xml version=\"1.0\" encoding=\"UTF-8\" standalone=\"no\"?>\n",
       "<!DOCTYPE svg PUBLIC \"-//W3C//DTD SVG 1.1//EN\"\n",
       " \"http://www.w3.org/Graphics/SVG/1.1/DTD/svg11.dtd\">\n",
       "<!-- Generated by graphviz version 2.40.1 (20161225.0304)\n",
       " -->\n",
       "<!-- Title: Tree Pages: 1 -->\n",
       "<svg width=\"921pt\" height=\"373pt\"\n",
       " viewBox=\"0.00 0.00 921.00 373.00\" xmlns=\"http://www.w3.org/2000/svg\" xmlns:xlink=\"http://www.w3.org/1999/xlink\">\n",
       "<g id=\"graph0\" class=\"graph\" transform=\"scale(1 1) rotate(0) translate(4 369)\">\n",
       "<title>Tree</title>\n",
       "<polygon fill=\"#ffffff\" stroke=\"transparent\" points=\"-4,4 -4,-369 917,-369 917,4 -4,4\"/>\n",
       "<!-- 0 -->\n",
       "<g id=\"node1\" class=\"node\">\n",
       "<title>0</title>\n",
       "<polygon fill=\"none\" stroke=\"#000000\" points=\"500.5,-365 396.5,-365 396.5,-297 500.5,-297 500.5,-365\"/>\n",
       "<text text-anchor=\"middle\" x=\"448.5\" y=\"-349.8\" font-family=\"Times,serif\" font-size=\"14.00\" fill=\"#000000\">X[48] &lt;= 0.408</text>\n",
       "<text text-anchor=\"middle\" x=\"448.5\" y=\"-334.8\" font-family=\"Times,serif\" font-size=\"14.00\" fill=\"#000000\">mse = 0.243</text>\n",
       "<text text-anchor=\"middle\" x=\"448.5\" y=\"-319.8\" font-family=\"Times,serif\" font-size=\"14.00\" fill=\"#000000\">samples = 7093</text>\n",
       "<text text-anchor=\"middle\" x=\"448.5\" y=\"-304.8\" font-family=\"Times,serif\" font-size=\"14.00\" fill=\"#000000\">value = 0.0</text>\n",
       "</g>\n",
       "<!-- 1 -->\n",
       "<g id=\"node2\" class=\"node\">\n",
       "<title>1</title>\n",
       "<polygon fill=\"none\" stroke=\"#000000\" points=\"389.5,-261 285.5,-261 285.5,-193 389.5,-193 389.5,-261\"/>\n",
       "<text text-anchor=\"middle\" x=\"337.5\" y=\"-245.8\" font-family=\"Times,serif\" font-size=\"14.00\" fill=\"#000000\">X[16] &lt;= 0.543</text>\n",
       "<text text-anchor=\"middle\" x=\"337.5\" y=\"-230.8\" font-family=\"Times,serif\" font-size=\"14.00\" fill=\"#000000\">mse = 0.101</text>\n",
       "<text text-anchor=\"middle\" x=\"337.5\" y=\"-215.8\" font-family=\"Times,serif\" font-size=\"14.00\" fill=\"#000000\">samples = 2018</text>\n",
       "<text text-anchor=\"middle\" x=\"337.5\" y=\"-200.8\" font-family=\"Times,serif\" font-size=\"14.00\" fill=\"#000000\">value = &#45;0.467</text>\n",
       "</g>\n",
       "<!-- 0&#45;&gt;1 -->\n",
       "<g id=\"edge1\" class=\"edge\">\n",
       "<title>0&#45;&gt;1</title>\n",
       "<path fill=\"none\" stroke=\"#000000\" d=\"M412.1544,-296.9465C402.2841,-287.6986 391.4925,-277.5876 381.259,-267.9994\"/>\n",
       "<polygon fill=\"#000000\" stroke=\"#000000\" points=\"383.6177,-265.4131 373.9272,-261.13 378.8316,-270.5214 383.6177,-265.4131\"/>\n",
       "<text text-anchor=\"middle\" x=\"374.7407\" y=\"-282.4168\" font-family=\"Times,serif\" font-size=\"14.00\" fill=\"#000000\">True</text>\n",
       "</g>\n",
       "<!-- 8 -->\n",
       "<g id=\"node9\" class=\"node\">\n",
       "<title>8</title>\n",
       "<polygon fill=\"none\" stroke=\"#000000\" points=\"622.5,-261 512.5,-261 512.5,-193 622.5,-193 622.5,-261\"/>\n",
       "<text text-anchor=\"middle\" x=\"567.5\" y=\"-245.8\" font-family=\"Times,serif\" font-size=\"14.00\" fill=\"#000000\">X[101] &lt;= 0.378</text>\n",
       "<text text-anchor=\"middle\" x=\"567.5\" y=\"-230.8\" font-family=\"Times,serif\" font-size=\"14.00\" fill=\"#000000\">mse = 0.179</text>\n",
       "<text text-anchor=\"middle\" x=\"567.5\" y=\"-215.8\" font-family=\"Times,serif\" font-size=\"14.00\" fill=\"#000000\">samples = 5075</text>\n",
       "<text text-anchor=\"middle\" x=\"567.5\" y=\"-200.8\" font-family=\"Times,serif\" font-size=\"14.00\" fill=\"#000000\">value = 0.186</text>\n",
       "</g>\n",
       "<!-- 0&#45;&gt;8 -->\n",
       "<g id=\"edge8\" class=\"edge\">\n",
       "<title>0&#45;&gt;8</title>\n",
       "<path fill=\"none\" stroke=\"#000000\" d=\"M487.4651,-296.9465C498.1495,-287.6088 509.8409,-277.3911 520.9066,-267.7203\"/>\n",
       "<polygon fill=\"#000000\" stroke=\"#000000\" points=\"523.2209,-270.346 528.4474,-261.13 518.6145,-265.0752 523.2209,-270.346\"/>\n",
       "<text text-anchor=\"middle\" x=\"526.7696\" y=\"-282.3736\" font-family=\"Times,serif\" font-size=\"14.00\" fill=\"#000000\">False</text>\n",
       "</g>\n",
       "<!-- 2 -->\n",
       "<g id=\"node3\" class=\"node\">\n",
       "<title>2</title>\n",
       "<polygon fill=\"none\" stroke=\"#000000\" points=\"219.5,-157 115.5,-157 115.5,-89 219.5,-89 219.5,-157\"/>\n",
       "<text text-anchor=\"middle\" x=\"167.5\" y=\"-141.8\" font-family=\"Times,serif\" font-size=\"14.00\" fill=\"#000000\">X[35] &lt;= 0.302</text>\n",
       "<text text-anchor=\"middle\" x=\"167.5\" y=\"-126.8\" font-family=\"Times,serif\" font-size=\"14.00\" fill=\"#000000\">mse = 0.075</text>\n",
       "<text text-anchor=\"middle\" x=\"167.5\" y=\"-111.8\" font-family=\"Times,serif\" font-size=\"14.00\" fill=\"#000000\">samples = 1923</text>\n",
       "<text text-anchor=\"middle\" x=\"167.5\" y=\"-96.8\" font-family=\"Times,serif\" font-size=\"14.00\" fill=\"#000000\">value = &#45;0.499</text>\n",
       "</g>\n",
       "<!-- 1&#45;&gt;2 -->\n",
       "<g id=\"edge2\" class=\"edge\">\n",
       "<title>1&#45;&gt;2</title>\n",
       "<path fill=\"none\" stroke=\"#000000\" d=\"M285.1072,-194.948C267.1683,-183.9735 246.9454,-171.6019 228.3929,-160.2521\"/>\n",
       "<polygon fill=\"#000000\" stroke=\"#000000\" points=\"230.0766,-157.1792 219.7198,-154.9462 226.4236,-163.1504 230.0766,-157.1792\"/>\n",
       "</g>\n",
       "<!-- 5 -->\n",
       "<g id=\"node6\" class=\"node\">\n",
       "<title>5</title>\n",
       "<polygon fill=\"none\" stroke=\"#000000\" points=\"389.5,-157 285.5,-157 285.5,-89 389.5,-89 389.5,-157\"/>\n",
       "<text text-anchor=\"middle\" x=\"337.5\" y=\"-141.8\" font-family=\"Times,serif\" font-size=\"14.00\" fill=\"#000000\">X[18] &lt;= 0.521</text>\n",
       "<text text-anchor=\"middle\" x=\"337.5\" y=\"-126.8\" font-family=\"Times,serif\" font-size=\"14.00\" fill=\"#000000\">mse = 0.183</text>\n",
       "<text text-anchor=\"middle\" x=\"337.5\" y=\"-111.8\" font-family=\"Times,serif\" font-size=\"14.00\" fill=\"#000000\">samples = 95</text>\n",
       "<text text-anchor=\"middle\" x=\"337.5\" y=\"-96.8\" font-family=\"Times,serif\" font-size=\"14.00\" fill=\"#000000\">value = 0.177</text>\n",
       "</g>\n",
       "<!-- 1&#45;&gt;5 -->\n",
       "<g id=\"edge5\" class=\"edge\">\n",
       "<title>1&#45;&gt;5</title>\n",
       "<path fill=\"none\" stroke=\"#000000\" d=\"M337.5,-192.9465C337.5,-184.776 337.5,-175.9318 337.5,-167.3697\"/>\n",
       "<polygon fill=\"#000000\" stroke=\"#000000\" points=\"341.0001,-167.13 337.5,-157.13 334.0001,-167.13 341.0001,-167.13\"/>\n",
       "</g>\n",
       "<!-- 3 -->\n",
       "<g id=\"node4\" class=\"node\">\n",
       "<title>3</title>\n",
       "<polygon fill=\"none\" stroke=\"#000000\" points=\"97,-53 0,-53 0,0 97,0 97,-53\"/>\n",
       "<text text-anchor=\"middle\" x=\"48.5\" y=\"-37.8\" font-family=\"Times,serif\" font-size=\"14.00\" fill=\"#000000\">mse = 0.209</text>\n",
       "<text text-anchor=\"middle\" x=\"48.5\" y=\"-22.8\" font-family=\"Times,serif\" font-size=\"14.00\" fill=\"#000000\">samples = 242</text>\n",
       "<text text-anchor=\"middle\" x=\"48.5\" y=\"-7.8\" font-family=\"Times,serif\" font-size=\"14.00\" fill=\"#000000\">value = &#45;0.284</text>\n",
       "</g>\n",
       "<!-- 2&#45;&gt;3 -->\n",
       "<g id=\"edge3\" class=\"edge\">\n",
       "<title>2&#45;&gt;3</title>\n",
       "<path fill=\"none\" stroke=\"#000000\" d=\"M125.5451,-88.9777C113.8014,-79.4545 101.0562,-69.1191 89.376,-59.6473\"/>\n",
       "<polygon fill=\"#000000\" stroke=\"#000000\" points=\"91.4568,-56.8286 81.4852,-53.2485 87.0478,-62.2656 91.4568,-56.8286\"/>\n",
       "</g>\n",
       "<!-- 4 -->\n",
       "<g id=\"node5\" class=\"node\">\n",
       "<title>4</title>\n",
       "<polygon fill=\"none\" stroke=\"#000000\" points=\"219.5,-53 115.5,-53 115.5,0 219.5,0 219.5,-53\"/>\n",
       "<text text-anchor=\"middle\" x=\"167.5\" y=\"-37.8\" font-family=\"Times,serif\" font-size=\"14.00\" fill=\"#000000\">mse = 0.049</text>\n",
       "<text text-anchor=\"middle\" x=\"167.5\" y=\"-22.8\" font-family=\"Times,serif\" font-size=\"14.00\" fill=\"#000000\">samples = 1681</text>\n",
       "<text text-anchor=\"middle\" x=\"167.5\" y=\"-7.8\" font-family=\"Times,serif\" font-size=\"14.00\" fill=\"#000000\">value = &#45;0.53</text>\n",
       "</g>\n",
       "<!-- 2&#45;&gt;4 -->\n",
       "<g id=\"edge4\" class=\"edge\">\n",
       "<title>2&#45;&gt;4</title>\n",
       "<path fill=\"none\" stroke=\"#000000\" d=\"M167.5,-88.9777C167.5,-80.7364 167.5,-71.887 167.5,-63.5153\"/>\n",
       "<polygon fill=\"#000000\" stroke=\"#000000\" points=\"171.0001,-63.2484 167.5,-53.2485 164.0001,-63.2485 171.0001,-63.2484\"/>\n",
       "</g>\n",
       "<!-- 6 -->\n",
       "<g id=\"node7\" class=\"node\">\n",
       "<title>6</title>\n",
       "<polygon fill=\"none\" stroke=\"#000000\" points=\"329.5,-53 237.5,-53 237.5,0 329.5,0 329.5,-53\"/>\n",
       "<text text-anchor=\"middle\" x=\"283.5\" y=\"-37.8\" font-family=\"Times,serif\" font-size=\"14.00\" fill=\"#000000\">mse = 0.099</text>\n",
       "<text text-anchor=\"middle\" x=\"283.5\" y=\"-22.8\" font-family=\"Times,serif\" font-size=\"14.00\" fill=\"#000000\">samples = 81</text>\n",
       "<text text-anchor=\"middle\" x=\"283.5\" y=\"-7.8\" font-family=\"Times,serif\" font-size=\"14.00\" fill=\"#000000\">value = 0.308</text>\n",
       "</g>\n",
       "<!-- 5&#45;&gt;6 -->\n",
       "<g id=\"edge6\" class=\"edge\">\n",
       "<title>5&#45;&gt;6</title>\n",
       "<path fill=\"none\" stroke=\"#000000\" d=\"M318.4616,-88.9777C313.5937,-80.2786 308.3466,-70.9018 303.435,-62.1247\"/>\n",
       "<polygon fill=\"#000000\" stroke=\"#000000\" points=\"306.4057,-60.2659 298.4681,-53.2485 300.2971,-63.6843 306.4057,-60.2659\"/>\n",
       "</g>\n",
       "<!-- 7 -->\n",
       "<g id=\"node8\" class=\"node\">\n",
       "<title>7</title>\n",
       "<polygon fill=\"none\" stroke=\"#000000\" points=\"445,-53 348,-53 348,0 445,0 445,-53\"/>\n",
       "<text text-anchor=\"middle\" x=\"396.5\" y=\"-37.8\" font-family=\"Times,serif\" font-size=\"14.00\" fill=\"#000000\">mse = &#45;0.0</text>\n",
       "<text text-anchor=\"middle\" x=\"396.5\" y=\"-22.8\" font-family=\"Times,serif\" font-size=\"14.00\" fill=\"#000000\">samples = 14</text>\n",
       "<text text-anchor=\"middle\" x=\"396.5\" y=\"-7.8\" font-family=\"Times,serif\" font-size=\"14.00\" fill=\"#000000\">value = &#45;0.581</text>\n",
       "</g>\n",
       "<!-- 5&#45;&gt;7 -->\n",
       "<g id=\"edge7\" class=\"edge\">\n",
       "<title>5&#45;&gt;7</title>\n",
       "<path fill=\"none\" stroke=\"#000000\" d=\"M358.3012,-88.9777C363.6758,-80.187 369.4735,-70.7044 374.8885,-61.8477\"/>\n",
       "<polygon fill=\"#000000\" stroke=\"#000000\" points=\"377.9158,-63.6059 380.146,-53.2485 371.9436,-59.9545 377.9158,-63.6059\"/>\n",
       "</g>\n",
       "<!-- 9 -->\n",
       "<g id=\"node10\" class=\"node\">\n",
       "<title>9</title>\n",
       "<polygon fill=\"none\" stroke=\"#000000\" points=\"619.5,-157 515.5,-157 515.5,-89 619.5,-89 619.5,-157\"/>\n",
       "<text text-anchor=\"middle\" x=\"567.5\" y=\"-141.8\" font-family=\"Times,serif\" font-size=\"14.00\" fill=\"#000000\">X[35] &lt;= 0.43</text>\n",
       "<text text-anchor=\"middle\" x=\"567.5\" y=\"-126.8\" font-family=\"Times,serif\" font-size=\"14.00\" fill=\"#000000\">mse = 0.247</text>\n",
       "<text text-anchor=\"middle\" x=\"567.5\" y=\"-111.8\" font-family=\"Times,serif\" font-size=\"14.00\" fill=\"#000000\">samples = 1507</text>\n",
       "<text text-anchor=\"middle\" x=\"567.5\" y=\"-96.8\" font-family=\"Times,serif\" font-size=\"14.00\" fill=\"#000000\">value = &#45;0.137</text>\n",
       "</g>\n",
       "<!-- 8&#45;&gt;9 -->\n",
       "<g id=\"edge9\" class=\"edge\">\n",
       "<title>8&#45;&gt;9</title>\n",
       "<path fill=\"none\" stroke=\"#000000\" d=\"M567.5,-192.9465C567.5,-184.776 567.5,-175.9318 567.5,-167.3697\"/>\n",
       "<polygon fill=\"#000000\" stroke=\"#000000\" points=\"571.0001,-167.13 567.5,-157.13 564.0001,-167.13 571.0001,-167.13\"/>\n",
       "</g>\n",
       "<!-- 12 -->\n",
       "<g id=\"node13\" class=\"node\">\n",
       "<title>12</title>\n",
       "<polygon fill=\"none\" stroke=\"#000000\" points=\"797.5,-157 693.5,-157 693.5,-89 797.5,-89 797.5,-157\"/>\n",
       "<text text-anchor=\"middle\" x=\"745.5\" y=\"-141.8\" font-family=\"Times,serif\" font-size=\"14.00\" fill=\"#000000\">X[17] &lt;= 0.513</text>\n",
       "<text text-anchor=\"middle\" x=\"745.5\" y=\"-126.8\" font-family=\"Times,serif\" font-size=\"14.00\" fill=\"#000000\">mse = 0.087</text>\n",
       "<text text-anchor=\"middle\" x=\"745.5\" y=\"-111.8\" font-family=\"Times,serif\" font-size=\"14.00\" fill=\"#000000\">samples = 3568</text>\n",
       "<text text-anchor=\"middle\" x=\"745.5\" y=\"-96.8\" font-family=\"Times,serif\" font-size=\"14.00\" fill=\"#000000\">value = 0.322</text>\n",
       "</g>\n",
       "<!-- 8&#45;&gt;12 -->\n",
       "<g id=\"edge12\" class=\"edge\">\n",
       "<title>8&#45;&gt;12</title>\n",
       "<path fill=\"none\" stroke=\"#000000\" d=\"M622.8446,-194.6638C642.4025,-183.2367 664.5034,-170.3239 684.5035,-158.6384\"/>\n",
       "<polygon fill=\"#000000\" stroke=\"#000000\" points=\"686.3608,-161.6069 693.2294,-153.5401 682.8294,-155.5629 686.3608,-161.6069\"/>\n",
       "</g>\n",
       "<!-- 10 -->\n",
       "<g id=\"node11\" class=\"node\">\n",
       "<title>10</title>\n",
       "<polygon fill=\"none\" stroke=\"#000000\" points=\"560,-53 463,-53 463,0 560,0 560,-53\"/>\n",
       "<text text-anchor=\"middle\" x=\"511.5\" y=\"-37.8\" font-family=\"Times,serif\" font-size=\"14.00\" fill=\"#000000\">mse = 0.2</text>\n",
       "<text text-anchor=\"middle\" x=\"511.5\" y=\"-22.8\" font-family=\"Times,serif\" font-size=\"14.00\" fill=\"#000000\">samples = 655</text>\n",
       "<text text-anchor=\"middle\" x=\"511.5\" y=\"-7.8\" font-family=\"Times,serif\" font-size=\"14.00\" fill=\"#000000\">value = 0.142</text>\n",
       "</g>\n",
       "<!-- 9&#45;&gt;10 -->\n",
       "<g id=\"edge10\" class=\"edge\">\n",
       "<title>9&#45;&gt;10</title>\n",
       "<path fill=\"none\" stroke=\"#000000\" d=\"M547.7565,-88.9777C542.7083,-80.2786 537.2669,-70.9018 532.1734,-62.1247\"/>\n",
       "<polygon fill=\"#000000\" stroke=\"#000000\" points=\"535.0689,-60.1409 527.0224,-53.2485 529.0145,-63.6544 535.0689,-60.1409\"/>\n",
       "</g>\n",
       "<!-- 11 -->\n",
       "<g id=\"node12\" class=\"node\">\n",
       "<title>11</title>\n",
       "<polygon fill=\"none\" stroke=\"#000000\" points=\"675,-53 578,-53 578,0 675,0 675,-53\"/>\n",
       "<text text-anchor=\"middle\" x=\"626.5\" y=\"-37.8\" font-family=\"Times,serif\" font-size=\"14.00\" fill=\"#000000\">mse = 0.177</text>\n",
       "<text text-anchor=\"middle\" x=\"626.5\" y=\"-22.8\" font-family=\"Times,serif\" font-size=\"14.00\" fill=\"#000000\">samples = 852</text>\n",
       "<text text-anchor=\"middle\" x=\"626.5\" y=\"-7.8\" font-family=\"Times,serif\" font-size=\"14.00\" fill=\"#000000\">value = &#45;0.351</text>\n",
       "</g>\n",
       "<!-- 9&#45;&gt;11 -->\n",
       "<g id=\"edge11\" class=\"edge\">\n",
       "<title>9&#45;&gt;11</title>\n",
       "<path fill=\"none\" stroke=\"#000000\" d=\"M588.3012,-88.9777C593.6758,-80.187 599.4735,-70.7044 604.8885,-61.8477\"/>\n",
       "<polygon fill=\"#000000\" stroke=\"#000000\" points=\"607.9158,-63.6059 610.146,-53.2485 601.9436,-59.9545 607.9158,-63.6059\"/>\n",
       "</g>\n",
       "<!-- 13 -->\n",
       "<g id=\"node14\" class=\"node\">\n",
       "<title>13</title>\n",
       "<polygon fill=\"none\" stroke=\"#000000\" points=\"797.5,-53 693.5,-53 693.5,0 797.5,0 797.5,-53\"/>\n",
       "<text text-anchor=\"middle\" x=\"745.5\" y=\"-37.8\" font-family=\"Times,serif\" font-size=\"14.00\" fill=\"#000000\">mse = 0.055</text>\n",
       "<text text-anchor=\"middle\" x=\"745.5\" y=\"-22.8\" font-family=\"Times,serif\" font-size=\"14.00\" fill=\"#000000\">samples = 3308</text>\n",
       "<text text-anchor=\"middle\" x=\"745.5\" y=\"-7.8\" font-family=\"Times,serif\" font-size=\"14.00\" fill=\"#000000\">value = 0.36</text>\n",
       "</g>\n",
       "<!-- 12&#45;&gt;13 -->\n",
       "<g id=\"edge13\" class=\"edge\">\n",
       "<title>12&#45;&gt;13</title>\n",
       "<path fill=\"none\" stroke=\"#000000\" d=\"M745.5,-88.9777C745.5,-80.7364 745.5,-71.887 745.5,-63.5153\"/>\n",
       "<polygon fill=\"#000000\" stroke=\"#000000\" points=\"749.0001,-63.2484 745.5,-53.2485 742.0001,-63.2485 749.0001,-63.2484\"/>\n",
       "</g>\n",
       "<!-- 14 -->\n",
       "<g id=\"node15\" class=\"node\">\n",
       "<title>14</title>\n",
       "<polygon fill=\"none\" stroke=\"#000000\" points=\"913,-53 816,-53 816,0 913,0 913,-53\"/>\n",
       "<text text-anchor=\"middle\" x=\"864.5\" y=\"-37.8\" font-family=\"Times,serif\" font-size=\"14.00\" fill=\"#000000\">mse = 0.243</text>\n",
       "<text text-anchor=\"middle\" x=\"864.5\" y=\"-22.8\" font-family=\"Times,serif\" font-size=\"14.00\" fill=\"#000000\">samples = 260</text>\n",
       "<text text-anchor=\"middle\" x=\"864.5\" y=\"-7.8\" font-family=\"Times,serif\" font-size=\"14.00\" fill=\"#000000\">value = &#45;0.162</text>\n",
       "</g>\n",
       "<!-- 12&#45;&gt;14 -->\n",
       "<g id=\"edge14\" class=\"edge\">\n",
       "<title>12&#45;&gt;14</title>\n",
       "<path fill=\"none\" stroke=\"#000000\" d=\"M787.4549,-88.9777C799.1986,-79.4545 811.9438,-69.1191 823.624,-59.6473\"/>\n",
       "<polygon fill=\"#000000\" stroke=\"#000000\" points=\"825.9522,-62.2656 831.5148,-53.2485 821.5432,-56.8286 825.9522,-62.2656\"/>\n",
       "</g>\n",
       "</g>\n",
       "</svg>\n"
      ],
      "text/plain": [
       "<graphviz.files.Source at 0x7fe539c17110>"
      ]
     },
     "execution_count": 142,
     "metadata": {},
     "output_type": "execute_result"
    }
   ],
   "source": [
    "graph"
   ]
  },
  {
   "cell_type": "code",
   "execution_count": 143,
   "metadata": {},
   "outputs": [
    {
     "name": "stdout",
     "output_type": "stream",
     "text": [
      "DEPTH: 0\n",
      "feature_ind: 48\n",
      "threshold: 0.408279\n",
      "samples: 7093\n",
      "gain: 0.086833\n",
      "mse: 0.243394\n",
      "prediction: 0.000000\n",
      "========================\n",
      "DEPTH: 1\n",
      "feature_ind: 16\n",
      "threshold: 0.542540\n",
      "samples: 2018\n",
      "gain: 0.020484\n",
      "mse: 0.100984\n",
      "prediction: -0.467303\n",
      "========================\n",
      "DEPTH: 2\n",
      "feature_ind: 35\n",
      "threshold: 0.302325\n",
      "samples: 1923\n",
      "gain: 0.006677\n",
      "mse: 0.075412\n",
      "prediction: -0.499114\n",
      "========================\n",
      "DEPTH: 3\n",
      "feature_ind: 0\n",
      "threshold: 0.000000\n",
      "samples: 242\n",
      "gain: 1.000000\n",
      "mse: 0.209002\n",
      "prediction: -0.283757\n",
      "========================\n",
      "DEPTH: 3\n",
      "feature_ind: 0\n",
      "threshold: 0.000000\n",
      "samples: 1681\n",
      "gain: 1.000000\n",
      "mse: 0.048543\n",
      "prediction: -0.530117\n",
      "========================\n",
      "DEPTH: 2\n",
      "feature_ind: 30\n",
      "threshold: 0.506748\n",
      "samples: 95\n",
      "gain: 0.099280\n",
      "mse: 0.183490\n",
      "prediction: 0.176617\n",
      "========================\n",
      "DEPTH: 3\n",
      "feature_ind: 0\n",
      "threshold: 0.000000\n",
      "samples: 81\n",
      "gain: 1.000000\n",
      "mse: 0.098765\n",
      "prediction: 0.307612\n",
      "========================\n",
      "DEPTH: 3\n",
      "feature_ind: 0\n",
      "threshold: 0.000000\n",
      "samples: 14\n",
      "gain: 1.000000\n",
      "mse: 0.000000\n",
      "prediction: -0.581277\n",
      "========================\n",
      "DEPTH: 1\n",
      "feature_ind: 101\n",
      "threshold: 0.378186\n",
      "samples: 5075\n",
      "gain: 0.043929\n",
      "mse: 0.178661\n",
      "prediction: 0.185816\n",
      "========================\n",
      "DEPTH: 2\n",
      "feature_ind: 35\n",
      "threshold: 0.430024\n",
      "samples: 1507\n",
      "gain: 0.059874\n",
      "mse: 0.246930\n",
      "prediction: -0.136685\n",
      "========================\n",
      "DEPTH: 3\n",
      "feature_ind: 0\n",
      "threshold: 0.000000\n",
      "samples: 655\n",
      "gain: 1.000000\n",
      "mse: 0.199974\n",
      "prediction: 0.142387\n",
      "========================\n",
      "DEPTH: 3\n",
      "feature_ind: 0\n",
      "threshold: 0.000000\n",
      "samples: 852\n",
      "gain: 1.000000\n",
      "mse: 0.177125\n",
      "prediction: -0.351230\n",
      "========================\n",
      "DEPTH: 2\n",
      "feature_ind: 17\n",
      "threshold: 0.512705\n",
      "samples: 3568\n",
      "gain: 0.018418\n",
      "mse: 0.087343\n",
      "prediction: 0.322030\n",
      "========================\n",
      "DEPTH: 3\n",
      "feature_ind: 0\n",
      "threshold: 0.000000\n",
      "samples: 3308\n",
      "gain: 1.000000\n",
      "mse: 0.055206\n",
      "prediction: 0.360077\n",
      "========================\n",
      "DEPTH: 3\n",
      "feature_ind: 0\n",
      "threshold: 0.000000\n",
      "samples: 260\n",
      "gain: 1.000000\n",
      "mse: 0.243476\n",
      "prediction: -0.162047\n",
      "========================\n"
     ]
    }
   ],
   "source": [
    "reg2.print_tree()"
   ]
  },
  {
   "cell_type": "code",
   "execution_count": 144,
   "metadata": {},
   "outputs": [
    {
     "data": {
      "text/plain": [
       "0.020749256689791884"
      ]
     },
     "execution_count": 144,
     "metadata": {},
     "output_type": "execute_result"
    }
   ],
   "source": [
    "0.101-(1936/2018.0 * 0.077 + 82/2018.0 * 0.157)"
   ]
  },
  {
   "cell_type": "code",
   "execution_count": 267,
   "metadata": {},
   "outputs": [
    {
     "data": {
      "text/plain": [
       "0.020915758176412294"
      ]
     },
     "execution_count": 267,
     "metadata": {},
     "output_type": "execute_result"
    }
   ],
   "source": [
    "0.101 -(1923/2018.0 * 0.075 + 95/2018.0 * 0.183)"
   ]
  },
  {
   "cell_type": "code",
   "execution_count": 48,
   "metadata": {},
   "outputs": [
    {
     "name": "stdout",
     "output_type": "stream",
     "text": [
      "10 loops, best of 3: 22.1 ms per loop\n"
     ]
    }
   ],
   "source": [
    "%%timeit\n",
    "reg.fit(X, y)"
   ]
  },
  {
   "cell_type": "code",
   "execution_count": 114,
   "metadata": {},
   "outputs": [
    {
     "name": "stdout",
     "output_type": "stream",
     "text": [
      "1000 loops, best of 3: 249 µs per loop\n"
     ]
    }
   ],
   "source": [
    "%%timeit\n",
    "t = reg.predict(X)"
   ]
  },
  {
   "cell_type": "code",
   "execution_count": 115,
   "metadata": {},
   "outputs": [
    {
     "name": "stdout",
     "output_type": "stream",
     "text": [
      "1 loop, best of 3: 683 ms per loop\n"
     ]
    }
   ],
   "source": [
    "%%timeit\n",
    "reg2.fit(X, y)"
   ]
  },
  {
   "cell_type": "code",
   "execution_count": 116,
   "metadata": {},
   "outputs": [
    {
     "name": "stdout",
     "output_type": "stream",
     "text": [
      "10 loops, best of 3: 28.3 ms per loop\n"
     ]
    }
   ],
   "source": [
    "%%timeit\n",
    "target = reg2.predict(X)"
   ]
  },
  {
   "cell_type": "code",
   "execution_count": null,
   "metadata": {
    "collapsed": true
   },
   "outputs": [],
   "source": [
    "print np.mean(cross_val_score(reg, X, y, cv=3, verbose=1))\n",
    "print np.mean(cross_val_score(reg2, X, y, cv=3, verbose=1))"
   ]
  },
  {
   "cell_type": "code",
   "execution_count": 95,
   "metadata": {
    "collapsed": true
   },
   "outputs": [],
   "source": [
    "from line_profiler import LineProfiler\n",
    "def profile_print(func_to_call, *args):\n",
    "    profiler = LineProfiler()\n",
    "    profiler.add_function(func_to_call)\n",
    "    profiler.runcall(func_to_call, *args)\n",
    "    profiler.print_stats()"
   ]
  },
  {
   "cell_type": "code",
   "execution_count": 15,
   "metadata": {
    "collapsed": true
   },
   "outputs": [],
   "source": [
    "s_ind = reg2.presort(X)"
   ]
  },
  {
   "cell_type": "code",
   "execution_count": 16,
   "metadata": {},
   "outputs": [
    {
     "name": "stdout",
     "output_type": "stream",
     "text": [
      "Timer unit: 1e-06 s\n",
      "\n",
      "Total time: 0 s\n",
      "File: /home/ritorepulso/.cache/ipython/cython/_cython_magic_a2b6946d6636acd4be259a9a612855e7.pyx\n",
      "Function: build at line 95\n",
      "\n",
      "Line #      Hits         Time  Per Hit   % Time  Line Contents\n",
      "==============================================================\n",
      "    95                                               def build(self, np.ndarray[np.float64_t, ndim=2] X, np.ndarray[np.float64_t, ndim=1] y,\n",
      "    96                                                         np.ndarray[long, ndim=2] sorted_ind, int depth=0):\n",
      "    97                                                   ##create node t\n",
      "    98                                                   tree = Tree()\n",
      "    99                                                   tree.depth = depth\n",
      "   100                                                   tree.prediction = np.mean(y)\n",
      "   101                                                   cdef np.ndarray[long, ndim=2] sorted_ind_left, sorted_ind_right\n",
      "   102                                                   cdef np.ndarray[long, ndim=1] sorted_1d\n",
      "   103                                                   cdef double gain\n",
      "   104                                                   cdef list index_list\n",
      "   105                                                   cdef int i, f_ind\n",
      "   106                                                   \n",
      "   107                                                   if self.stop_criterion(tree, y, tree.prediction):\n",
      "   108                                                       pass\n",
      "   109                                                       ##assign a predictive model to tree\n",
      "   110                                                       #tree.prediction = np.mean(y)\n",
      "   111                                                   else:\n",
      "   112                                                       ##Find the best binary split L = L_left + L_right\n",
      "   113                                                       gain, tree.feature_ind, tree.threshold, tree.threshold_ind = self.best_split(X, y, sorted_ind)\n",
      "   114                                                       \n",
      "   115                                                       left = np.where(X.T[tree.feature_ind] <= tree.threshold)[0]\n",
      "   116                                                       right = np.where(X.T[tree.feature_ind] > tree.threshold)[0]\n",
      "   117                                                       index_list = [None] * X.shape[0]\n",
      "   118                                                       for i in xrange(left.shape[0]):\n",
      "   119                                                           index_list[left[i]] = (i, \"l\")\n",
      "   120                                                       for i in xrange(right.shape[0]):\n",
      "   121                                                           index_list[right[i]] = (i, \"r\")\n",
      "   122                                                       \n",
      "   123                                                       sorted_ind_left = np.zeros((self.features_num, left.shape[0])).astype(int)\n",
      "   124                                                       sorted_ind_right = np.zeros((self.features_num, right.shape[0])).astype(int)\n",
      "   125                                                       \n",
      "   126                                                       for f_ind in xrange(self.features_num):\n",
      "   127                                                           sorted_1d = sorted_ind[f_ind]\n",
      "   128                                                           tmp_l = []\n",
      "   129                                                           tmp_r = []\n",
      "   130                                                           for idx in xrange(sorted_1d.shape[0]):\n",
      "   131                                                               if index_list[sorted_1d[idx]][1] == 'l':\n",
      "   132                                                                   tmp_l.append(index_list[sorted_1d[idx]][0])\n",
      "   133                                                               else:\n",
      "   134                                                                   tmp_r.append(index_list[sorted_1d[idx]][0])\n",
      "   135                                                           sorted_ind_left[f_ind] = np.array(tmp_l)\n",
      "   136                                                           sorted_ind_right[f_ind] = np.array(tmp_r)\n",
      "   137                                                               \n",
      "   138                                                       tree.left = self.build(X[left], y[left], sorted_ind_left, tree.depth+1)\n",
      "   139                                                       tree.right = self.build(X[right], y[right], sorted_ind_right, tree.depth+1)\n",
      "   140                                                   return tree\n",
      "\n"
     ]
    }
   ],
   "source": [
    "profile_print(reg2.build, X, y, s_ind)"
   ]
  },
  {
   "cell_type": "code",
   "execution_count": null,
   "metadata": {
    "collapsed": true
   },
   "outputs": [],
   "source": []
  },
  {
   "cell_type": "code",
   "execution_count": null,
   "metadata": {
    "collapsed": true
   },
   "outputs": [],
   "source": []
  },
  {
   "cell_type": "code",
   "execution_count": null,
   "metadata": {
    "collapsed": true
   },
   "outputs": [],
   "source": []
  }
 ],
 "metadata": {
  "kernelspec": {
   "display_name": "Python 3",
   "language": "python",
   "name": "python3"
  },
  "language_info": {
   "codemirror_mode": {
    "name": "ipython",
    "version": 3
   },
   "file_extension": ".py",
   "mimetype": "text/x-python",
   "name": "python",
   "nbconvert_exporter": "python",
   "pygments_lexer": "ipython3",
   "version": "3.6.5"
  }
 },
 "nbformat": 4,
 "nbformat_minor": 2
}
